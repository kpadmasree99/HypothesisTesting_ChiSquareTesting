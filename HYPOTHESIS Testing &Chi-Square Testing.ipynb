{
 "cells": [
  {
   "cell_type": "markdown",
   "id": "19cb7639-28f9-49eb-b5bf-c3461afbf360",
   "metadata": {},
   "source": [
    "# HYPOTHESIS TESTING\n"
   ]
  },
  {
   "cell_type": "markdown",
   "id": "fdb8dda8-7577-4b2c-a93e-97134ada14d6",
   "metadata": {},
   "source": [
    "**Data Provided:**\n",
    "* The theoretical weekly operating cost model: W = $1,000 + $5X\n",
    "* Sample of 25 restaurants with a mean weekly cost of Rs. 3,050\n",
    "* Number of units produced in a week (X) follows a normal distribution with a mean (μ) of 600 units and a standard deviation (σ) of 25 units\n"
   ]
  },
  {
   "cell_type": "code",
   "execution_count": 6,
   "id": "a9176394-bfcf-46fc-8f39-234be2338672",
   "metadata": {},
   "outputs": [],
   "source": [
    "import scipy.stats as stats\n",
    "import math"
   ]
  },
  {
   "cell_type": "markdown",
   "id": "17bfb276-3c21-4bff-9ab9-1c3f96fe1e7b",
   "metadata": {},
   "source": [
    "**State the Hypotheses**"
   ]
  },
  {
   "cell_type": "code",
   "execution_count": 77,
   "id": "84bd20af-56fd-4e77-94fe-713dbaa84f58",
   "metadata": {},
   "outputs": [
    {
     "name": "stdout",
     "output_type": "stream",
     "text": [
      " The mean value :-  4000\n",
      " The sample_mean value :-  3050\n",
      " The Standard deviation  value :-  125\n",
      " The size value :- 25\n"
     ]
    }
   ],
   "source": [
    "mean = 1000+5*600 # The theoretical weekly operating cost mode\n",
    "sample_mean = 3050 \n",
    "sd = 5*25 #Number of units produced in a week (X) and Standard deviation of X\n",
    "n= 25  # number of units or size\n",
    "print(' The mean value :- ',mean)\n",
    "print(' The sample_mean value :- ',sample_mean)\n",
    "print(' The Standard deviation  value :- ',sd)\n",
    "print(' The size value :-',n)"
   ]
  },
  {
   "cell_type": "markdown",
   "id": "e245ab1e-d704-499d-b715-d3271c59c2b7",
   "metadata": {},
   "source": [
    "# Calculate the test statistic"
   ]
  },
  {
   "cell_type": "code",
   "execution_count": 79,
   "id": "fa5ac0aa-f937-4879-94df-792af0feea6a",
   "metadata": {},
   "outputs": [
    {
     "name": "stdout",
     "output_type": "stream",
     "text": [
      "The Z Test statistic:- -38.0\n"
     ]
    }
   ],
   "source": [
    "z = (sample_mean-mean)/(sd/math.sqrt(n)) # to find the z test value \n",
    "print('The Z Test statistic:-', z)\n"
   ]
  },
  {
   "cell_type": "markdown",
   "id": "a77db9e3-8fd1-47cc-a57f-61fa72ce2555",
   "metadata": {},
   "source": [
    "# Determine the Critical Value using the alpha level of 0.05"
   ]
  },
  {
   "cell_type": "code",
   "execution_count": 81,
   "id": "cc615a4b-3a89-41d4-be48-5618503d74c2",
   "metadata": {},
   "outputs": [
    {
     "name": "stdout",
     "output_type": "stream",
     "text": [
      "The Critical Value :- 1.6448536269514722\n"
     ]
    }
   ],
   "source": [
    "alpha = 0.05 # alpha level\n",
    "critical_value = stats.norm.ppf(1-alpha) \n",
    "print('The Critical Value :-',critical_value )\n",
    "\n"
   ]
  },
  {
   "cell_type": "markdown",
   "id": "a257dbbb-c26c-4548-9530-c20b12fee73c",
   "metadata": {},
   "source": [
    "# Decision"
   ]
  },
  {
   "cell_type": "code",
   "execution_count": 83,
   "id": "d8d85d3e-8226-4bb1-af63-ab6f11753a4b",
   "metadata": {},
   "outputs": [
    {
     "name": "stdout",
     "output_type": "stream",
     "text": [
      "Fail to reject the null hypothesis. \n"
     ]
    }
   ],
   "source": [
    "# Decision\n",
    "if z > critical_value:\n",
    "    print(\"Reject the null hypothesis. \")\n",
    "else:\n",
    "    print(\"Fail to reject the null hypothesis. \")\n"
   ]
  },
  {
   "cell_type": "markdown",
   "id": "ddae67cd-05f0-47af-8a1e-e5d32198c545",
   "metadata": {},
   "source": [
    "# conclusion"
   ]
  },
  {
   "cell_type": "markdown",
   "id": "7d88d55a-2951-4848-962f-c906ac4d8942",
   "metadata": {},
   "source": [
    "* The weekly operating costs are significantly higher than the model suggests.\n",
    "* There is no significant evidence that the weekly operating costs are higher than the model suggests.\n"
   ]
  },
  {
   "cell_type": "markdown",
   "id": "c255708b-8fbc-491e-8629-53e7098f9c4b",
   "metadata": {},
   "source": [
    "# Chi-Square Test"
   ]
  },
  {
   "cell_type": "code",
   "execution_count": 52,
   "id": "544535a4-3947-4a6f-b236-7cbed01b1ee1",
   "metadata": {},
   "outputs": [],
   "source": [
    "import pandas as pd\n",
    "import numpy as np\n",
    "from scipy.stats import chi2_contingency"
   ]
  },
  {
   "cell_type": "code",
   "execution_count": 70,
   "id": "5e25a02f-f829-48e3-8abc-2db45a44aecd",
   "metadata": {},
   "outputs": [
    {
     "name": "stdout",
     "output_type": "stream",
     "text": [
      "Chi-Square Statistic: 5.638227513227513\n",
      "p-value: 0.22784371130697179\n",
      "Degrees of Freedom: 4\n",
      "Expected Frequencies: \n",
      "[[ 48.  72.]\n",
      " [ 72. 108.]\n",
      " [ 60.  90.]\n",
      " [ 32.  48.]\n",
      " [ 28.  42.]]\n",
      "Fail to reject the null hypothesis. No significant association between device type and customer satisfaction.\n"
     ]
    }
   ],
   "source": [
    "import scipy.stats as stats\n",
    "\n",
    "# Data provided\n",
    "observed = [[50, 70], [80, 100], [60, 90], [30, 50], [20, 50]]\n",
    "\n",
    "# Perform Chi-Square Test\n",
    "chi2_stat, p_val, dof, ex = stats.chi2_contingency(observed)\n",
    "\n",
    "# Output results\n",
    "print(f\"Chi-Square Statistic: {chi2_stat}\")\n",
    "print(f\"p-value: {p_val}\")\n",
    "print(f\"Degrees of Freedom: {dof}\")\n",
    "print(f\"Expected Frequencies: \\n{ex}\")\n",
    "\n",
    "# Determine the critical value\n",
    "alpha = 0.05\n",
    "critical_value = stats.chi2.ppf(1 - alpha, dof)\n",
    "\n",
    "# Decision\n",
    "if chi2_stat > critical_value:\n",
    "    print(f\"Reject the null hypothesis. There is a significant association between device type and customer satisfaction.\")\n",
    "else:\n",
    "    print(f\"Fail to reject the null hypothesis. No significant association between device type and customer satisfaction.\")\n"
   ]
  },
  {
   "cell_type": "code",
   "execution_count": null,
   "id": "59b9620b-1a35-471b-8dc4-0c6af27dc505",
   "metadata": {},
   "outputs": [],
   "source": []
  },
  {
   "cell_type": "code",
   "execution_count": 72,
   "id": "76fca33e-bf5a-408d-930f-5280e924b9bc",
   "metadata": {},
   "outputs": [],
   "source": [
    "chi2_stat, p_val, dof, ex = stats.chi2_contingency(observed) # Perform Chi-Square Test"
   ]
  },
  {
   "cell_type": "code",
   "execution_count": 74,
   "id": "854620d2-6511-4442-aee4-9bdb099a7355",
   "metadata": {},
   "outputs": [
    {
     "name": "stdout",
     "output_type": "stream",
     "text": [
      "Chi-Square Statistic: 5.638227513227513\n",
      "p-value: 0.22784371130697179\n",
      "Degrees of Freedom: 4\n",
      "Expected Frequencies: \n",
      "[[ 48.  72.]\n",
      " [ 72. 108.]\n",
      " [ 60.  90.]\n",
      " [ 32.  48.]\n",
      " [ 28.  42.]]\n"
     ]
    }
   ],
   "source": [
    "\n",
    "print(f\"Chi-Square Statistic: {chi2_stat}\") # Output results\n",
    "print(f\"p-value: {p_val}\") # Output results\n",
    "print(f\"Degrees of Freedom: {dof}\") # Output results\n",
    "print(f\"Expected Frequencies: \\n{ex}\")# Output results\n"
   ]
  },
  {
   "cell_type": "markdown",
   "id": "903f71a5-03fc-4b06-9869-0ec38add6220",
   "metadata": {},
   "source": [
    "# Decision"
   ]
  },
  {
   "cell_type": "code",
   "execution_count": 86,
   "id": "fed34612-6b8b-4286-94dd-7c8e8baeeb11",
   "metadata": {},
   "outputs": [
    {
     "name": "stdout",
     "output_type": "stream",
     "text": [
      "Reject the null hypothesis. \n"
     ]
    }
   ],
   "source": [
    " if chi2_stat > critical_value:\n",
    "    print(f\"Reject the null hypothesis. \")\n",
    "else:\n",
    "    print(f\"Fail to reject the null hypothesis. \")\n"
   ]
  },
  {
   "cell_type": "markdown",
   "id": "8fa82621-c94c-418a-b6a7-09504c641594",
   "metadata": {},
   "source": [
    "# conclusion"
   ]
  },
  {
   "cell_type": "markdown",
   "id": "e8dabae6-3675-43bf-a456-21c66b110009",
   "metadata": {},
   "source": [
    "* There is a significant association between device type and customer satisfaction.\n",
    "* No significant association between device type and customer satisfaction."
   ]
  }
 ],
 "metadata": {
  "kernelspec": {
   "display_name": "Python 3 (ipykernel)",
   "language": "python",
   "name": "python3"
  },
  "language_info": {
   "codemirror_mode": {
    "name": "ipython",
    "version": 3
   },
   "file_extension": ".py",
   "mimetype": "text/x-python",
   "name": "python",
   "nbconvert_exporter": "python",
   "pygments_lexer": "ipython3",
   "version": "3.11.7"
  }
 },
 "nbformat": 4,
 "nbformat_minor": 5
}
